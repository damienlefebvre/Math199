{
 "cells": [
  {
   "cell_type": "markdown",
   "metadata": {},
   "source": [
    "# Mathematics 199 Final report - Winter 2019\n",
    "**by Damien Lefebvre**"
   ]
  },
  {
   "cell_type": "markdown",
   "metadata": {},
   "source": [
    "## Introduction\n",
    "\n",
    "In this report, we will outline a step-by-step process to design a Python interface that uses C++ code. The implementation uses Cython to allow the two languages to communicate. We will describe the example we designed, give an overview of the code in C++, Cython, and Python, explain the compilation process, go over the testing results, discuss some important pitfalls and how to avoid them, and give some concluding remarks."
   ]
  },
  {
   "cell_type": "markdown",
   "metadata": {},
   "source": [
    "## Outline\n",
    "1. Example\n",
    "2. C++ code\n",
    "3. Cython code\n",
    "4. Python code\n",
    "5. Compilation\n",
    "6. Testing\n",
    "7. Pitfalls\n",
    "8. Conclusion"
   ]
  },
  {
   "cell_type": "markdown",
   "metadata": {},
   "source": [
    "## 1. Example\n",
    "\n",
    "The implementation used as an example to help the reader understand the concepts is about the stock market. We will use Barrick Gold, the largest gold mining company in the world, as an example of a company. This particular company was chosen because it underwent a change in its ticker, which is something that will be useful to represent.\n",
    "\n",
    "We will create a string for its ticker, a 1D array for its share price data on 2 January 2019, and a 2D array for its share price data on 31 December 2018 and 28 December 2018. We will intentionally make mistakes in our Python code, so that C++ can fix them. We will initialize the ticker to ABX so that the C++ code can update it to GOLD. We will write the Close share price for the price data as 1.310 instead of 13.10, so that the C++ code can multiply it by 10. And we will write the Close share price for the latest day of the historical price data as 1.312 instead of 13.12, so that the C++ code can multiply it by 10."
   ]
  },
  {
   "cell_type": "markdown",
   "metadata": {},
   "source": [
    "## 2. C++ code"
   ]
  },
  {
   "cell_type": "markdown",
   "metadata": {},
   "source": [
    "### Motivation\n",
    "The objective of this project is to use C++ code because of its faster, more efficient properties. For this example, we will write very basic C++ code that only highlights the main features Cython offers. We will create a simple C++ class called `Stock_c`, that will hold several member variables."
   ]
  },
  {
   "cell_type": "markdown",
   "metadata": {},
   "source": [
    "### Class member variables\n",
    "-  a char* called `ticker`, for the company’s ticker. e.g. ABX for Barrick Gold on the New York Stock Exchange. It changed to GOLD on 2 January 2019.\n",
    "-  a vector of doubles called `price_data`, for the company’s share price on a given day, using the typical Open, High, Low, Close (OHLC) representation. e.g. Barrick Gold traded at [13.64, 13.69, 13.05, 13.10] on 2 January 2019.\n",
    "-  a vector of vector doubles called `historical_price_data`, for the company’s price data in the previous two trading days. e.g. Barrick Gold traded at [13.00, 13.59, 12.69, 13.54] on Monday, 31 December 2018 and [13.54, 13.62, 13.06, 13.12] on Friday, 28 December 2019. These are the two previous trading days because markets close on the weekend and on January 1st to celebrate New Year’s Eve.\n",
    "-  two integers called `price_data_size` and `historical_price_data_size`, for the size of their respective variable.\n"
   ]
  },
  {
   "cell_type": "markdown",
   "metadata": {},
   "source": [
    "### Class member functions\n",
    "-  get ticker: return the class member variable ticker\n",
    "-  change ticker: change the class member variable ticker to GOLD\n",
    "-  change price data: multiply the Close share price of the price data ten-fold\n",
    "-  change historical price data: multiply the Close share price of the oldest day in the historical_price_data ten-fold\n",
    "-  get industry: return the industry\n",
    "-  get historical volume: return the historical volume, in thousands of shares"
   ]
  },
  {
   "cell_type": "markdown",
   "metadata": {},
   "source": [
    "### Files\n",
    "-  stock_h.h: a classic header file containing the declaration of the class\n",
    "-  stock_cpp.cpp: a classic cpp file containing the implementation of the class"
   ]
  },
  {
   "cell_type": "markdown",
   "metadata": {},
   "source": [
    "## 3. Cython code"
   ]
  },
  {
   "cell_type": "markdown",
   "metadata": {},
   "source": [
    "### Motivation\n",
    "The Cython code allows the interface between the C++ code and the Python code. The pyx file is equivalent to a cpp file, and the pxd file is equivalent to a header file."
   ]
  },
  {
   "cell_type": "markdown",
   "metadata": {},
   "source": [
    "### Files\n",
    "-  stock_pyx.pyx: a Cython file that\n",
    "  -  imports the C++ class through its declaration in the pxd file\n",
    "  -  declares the functions used from Python that will call the C++ functions\n",
    "-  stock_pxd.pxd: a Cython file that\n",
    "  -  declares the cpp file to use\n",
    "  -  declares the header file to use, along with declarations of the C++ functions"
   ]
  },
  {
   "cell_type": "markdown",
   "metadata": {},
   "source": [
    "## 4. Python code"
   ]
  },
  {
   "cell_type": "markdown",
   "metadata": {},
   "source": [
    "### Motivation\n",
    "Allow the user to only write Python code, and through it use the classes and functions in C++. Python also initiates the compilation process."
   ]
  },
  {
   "cell_type": "markdown",
   "metadata": {},
   "source": [
    "### Files\n",
    "-  setup.py: declares the pyx file to cythonize\n",
    "-  test.py: import the pyx file, use the functions declared in Cython"
   ]
  },
  {
   "cell_type": "markdown",
   "metadata": {},
   "source": [
    "## 5. Compilation"
   ]
  },
  {
   "cell_type": "markdown",
   "metadata": {},
   "source": [
    "### Motivation\n",
    "Optional bash script that executes the setup Python program."
   ]
  },
  {
   "cell_type": "markdown",
   "metadata": {},
   "source": [
    "### Files\n",
    "-  compile.sh:"
   ]
  },
  {
   "cell_type": "code",
   "execution_count": null,
   "metadata": {},
   "outputs": [],
   "source": [
    "python3 setup.py build_ext --inplace"
   ]
  },
  {
   "cell_type": "markdown",
   "metadata": {},
   "source": [
    "## 6. Testing"
   ]
  },
  {
   "cell_type": "markdown",
   "metadata": {},
   "source": [
    "### Motivation\n",
    "Our test file written in Python describes what variables are created and their addresses, by printing. These variables are used to create the Barrick Gold `Stock_py` class instance. The C++ code also prints out the value of the variables and their addresses."
   ]
  },
  {
   "cell_type": "markdown",
   "metadata": {},
   "source": [
    "### Checking the C++ code \n",
    "We first check that the C++ code is working. We can write a simple main routine to create a `Stock_c` object and print its `ticker`. We will compile this using the GNU C++ compiler. Simply compile with `g++ stock_cpp.cpp` and run the output file  `./a.out` to check the output:"
   ]
  },
  {
   "cell_type": "code",
   "execution_count": null,
   "metadata": {},
   "outputs": [],
   "source": [
    "C++: create BarrickGold\n",
    "C++: overloaded constructor\n",
    "C++: this->ticker: ABX\n",
    "C++: this->price_data: 0x7fffca28d330\n",
    "C++: this->price_data_size: 4\n",
    "C++: this->historical_price_data: 0x7fffca28d310\n",
    "C++: this->historical_price_data_size: 8\n",
    "C++: get_ticker_c, return this->ticker\n",
    "C++: get_ticker_c() returns: ABX"
   ]
  },
  {
   "cell_type": "markdown",
   "metadata": {},
   "source": [
    "### Checking the Python code\n",
    "Now that we know the C++ code is working, we will try to use it from Python. Run `./compile.sh`, the command line should output something like this:"
   ]
  },
  {
   "cell_type": "code",
   "execution_count": null,
   "metadata": {},
   "outputs": [],
   "source": [
    "[1/1] Cythonizing stock_pyx.pyx\n",
    "/home/damienlefebvre/.local/lib/python3.5/site-packages/Cython/Compiler/Main.py:367: FutureWarning: Cython directive 'language_level' not set, using 2 for now (Py2). This will change in a later release! File: /home/damienlefebvre/Math199/v5/stock_pyx.pyx\n",
    "  tree = Parsing.p_module(s, pxd, full_module_name)\n",
    "running build_ext\n",
    "building 'stock_pyx' extension\n",
    "creating build\n",
    "creating build/temp.linux-x86_64-3.5\n",
    "x86_64-linux-gnu-gcc -pthread -DNDEBUG -g -fwrapv -O2 -Wall -Wstrict-prototypes -g -fstack-protector-strong -Wformat -Werror=format-security -Wdate-time -D_FORTIFY_SOURCE=2 -fPIC -I. -I/usr/include/python3.5m -c stock_pyx.cpp -o build/temp.linux-x86_64-3.5/stock_pyx.o\n",
    "cc1plus: warning: command line option ‘-Wstrict-prototypes’ is valid for C/ObjC but not for C++\n",
    "x86_64-linux-gnu-g++ -pthread -shared -Wl,-O1 -Wl,-Bsymbolic-functions -Wl,-Bsymbolic-functions -Wl,-z,relro -Wl,-Bsymbolic-functions -Wl,-z,relro -g -fstack-protector-strong -Wformat -Werror=format-security -Wdate-time -D_FORTIFY_SOURCE=2 build/temp.linux-x86_64-3.5/stock_pyx.o -o /home/damienlefebvre/Math199/v5/stock_pyx.cpython-35m-x86_64-linux-gnu.so"
   ]
  },
  {
   "cell_type": "markdown",
   "metadata": {},
   "source": [
    "You'll notice the compiler throws a warning about `-Wstrict-prototypes`. This is a common issue caused by Python's build_ext. Since this warning is harmless and there are no easy solutions currently available, it's best to ignore it."
   ]
  },
  {
   "cell_type": "markdown",
   "metadata": {},
   "source": [
    "### Outline of `test.py`\n",
    "1. create the string `ticker`\n",
    "2. create the 1D array `price_data`\n",
    "3. create the 2D array `historical_price_data`\n",
    "4. create the Stock_py `Barrick Gold` using variables `ticker`, `price_data`, and `historical_price_data`\n",
    "5. retrieve `ticker` from C++\n",
    "6. change `ticker` using C++\n",
    "7. check in Python that `ticker` changed by printing it\n",
    "8. change `price_data` using C++\n",
    "9. check in Python that `price_data` changed by printing it\n",
    "10. change `historical_price_data` using C++\n",
    "11. check in Python that `historical_price_data` changed by printing it\n",
    "12. retrieve the industry from C++\n",
    "13. retrieve the historical_volume from C++"
   ]
  },
  {
   "cell_type": "markdown",
   "metadata": {},
   "source": [
    "### Output"
   ]
  },
  {
   "cell_type": "code",
   "execution_count": null,
   "metadata": {},
   "outputs": [],
   "source": [
    "Python: create string ticker\n",
    "Python: ticker is b'ABX'\n",
    "Python: the address of ticker is 0x7f94d8994b48"
   ]
  },
  {
   "cell_type": "markdown",
   "metadata": {},
   "source": [
    "We create `ticker` as a binary string."
   ]
  },
  {
   "cell_type": "code",
   "execution_count": null,
   "metadata": {},
   "outputs": [],
   "source": [
    "Python: create numpy array price_data\n",
    "Python: price_data is [13.64 13.69 13.05  1.31]\n",
    "Python: the address of price_data is 0x7f94d89f85d0"
   ]
  },
  {
   "cell_type": "markdown",
   "metadata": {},
   "source": [
    "We create `price_data` with the intentional typo for the Close share price."
   ]
  },
  {
   "cell_type": "code",
   "execution_count": null,
   "metadata": {},
   "outputs": [],
   "source": [
    "Python: create numpy array historical_price_data\n",
    "Python: historical_price_data is [[13.    13.59  12.69  13.54 ]\n",
    " [13.54  13.62  13.06   1.312]]\n",
    "Python: the address of historical_price_data is 0x7f94d8a000d0"
   ]
  },
  {
   "cell_type": "markdown",
   "metadata": {},
   "source": [
    "We create `historical_price_data` with the intentional typo for the Close share price of the oldest day."
   ]
  },
  {
   "cell_type": "code",
   "execution_count": null,
   "metadata": {},
   "outputs": [],
   "source": [
    "Python: create Stock_py BarrickGold with ticker, price_data, and historical_price_data"
   ]
  },
  {
   "cell_type": "markdown",
   "metadata": {},
   "source": [
    "We initialize a `Stock_py` class called `BarrickGold` with the three variables we declared."
   ]
  },
  {
   "cell_type": "code",
   "execution_count": null,
   "metadata": {},
   "outputs": [],
   "source": [
    "C++: overloaded constructor\n",
    "C++: this->ticker: ABX\n",
    "C++: this->price_data: 0x26e2910\n",
    "C++: this->price_data_size: 4\n",
    "C++: this->historical_price_data: 0x28a8690\n",
    "C++: this->historical_price_data_size: 8"
   ]
  },
  {
   "cell_type": "markdown",
   "metadata": {},
   "source": [
    "C++ was called and initialized the class successfully."
   ]
  },
  {
   "cell_type": "code",
   "execution_count": null,
   "metadata": {},
   "outputs": [],
   "source": [
    "Python: call get_ticker_py\n",
    "C++: get_ticker_c, return this->ticker\n",
    "Python: get_ticker_py returns: ABX"
   ]
  },
  {
   "cell_type": "markdown",
   "metadata": {},
   "source": [
    "We use Python to retrieve the ticker successfully."
   ]
  },
  {
   "cell_type": "code",
   "execution_count": null,
   "metadata": {},
   "outputs": [],
   "source": [
    "Python: call change_ticker_py\n",
    "C++: this->ticker: ABX\n",
    "C++: *(this->ticker): A\n",
    "C++: &(this->ticker): 0x7f94cb4f34a0"
   ]
  },
  {
   "cell_type": "markdown",
   "metadata": {},
   "source": [
    "We use Python to make C++ change `ticker`. In C++, we print the value of `ticker` and its address. Notice the first 4 digits of the hex address are identical to the address in Python: `0x7f4e`"
   ]
  },
  {
   "cell_type": "code",
   "execution_count": null,
   "metadata": {},
   "outputs": [],
   "source": [
    "C++: this->ticker[0]: A\n",
    "C++: this->ticker[1]: B\n",
    "C++: this->ticker[2]: X\n",
    "C++: this->ticker[3]:\n",
    "C++: this->ticker[4]:\n",
    "C++: this->ticker[5]: <0x7f>\n",
    "C++: this->ticker[6]:\n",
    "C++: this->ticker[7]:\n",
    "C++: this->ticker[8]: <0x01>\n",
    "C++: this->ticker[9]:"
   ]
  },
  {
   "cell_type": "markdown",
   "metadata": {},
   "source": [
    "We print in C++ the first 10 values at that address. We recognize the `A`, `B`, and `X` characters, followed by some garbage values."
   ]
  },
  {
   "cell_type": "code",
   "execution_count": null,
   "metadata": {},
   "outputs": [],
   "source": [
    "C++: set this->ticker to GOLD, one character at a time\n",
    "C++: this->ticker: GOLD<0x7f>"
   ]
  },
  {
   "cell_type": "markdown",
   "metadata": {},
   "source": [
    "We set `ticker` to `GOLD` one character at a time in a loop, and print to check."
   ]
  },
  {
   "cell_type": "code",
   "execution_count": null,
   "metadata": {},
   "outputs": [],
   "source": [
    "Python: ticker is b'GOL'\n",
    "Python: the address of ticker is 0x7f94d8994b48"
   ]
  },
  {
   "cell_type": "markdown",
   "metadata": {},
   "source": [
    "Back to Python, we print `ticker` to check the results. The characters were successfully changed, but the Python variable is still set to length 3. If we could print the character after that, we would get the missing `L`. The address hasn't changed."
   ]
  },
  {
   "cell_type": "code",
   "execution_count": null,
   "metadata": {},
   "outputs": [],
   "source": [
    "Python: call change_price_data_py\n",
    "C++: this->price_data: 0x26e2910\n",
    "C++: *(this->price_data): 13.64\n",
    "C++: &(this->price_data): 0x7f94cb4f34a8"
   ]
  },
  {
   "cell_type": "markdown",
   "metadata": {},
   "source": [
    "We use Python to make C++ change `price_data`. In C++, we print the value of `price_data` and its address. Again, notice the first 4 digits of the hex address are identical to the address in Python: `0x7f4e`"
   ]
  },
  {
   "cell_type": "code",
   "execution_count": null,
   "metadata": {},
   "outputs": [],
   "source": [
    "C++: this->price_data[0]: 13.64\n",
    "C++: this->price_data[1]: 13.69\n",
    "C++: this->price_data[2]: 13.05\n",
    "C++: this->price_data[3]: 1.31\n",
    "C++: this->price_data[4]: 2.37152e-322\n",
    "C++: this->price_data[5]: 4.03652e-321\n",
    "C++: this->price_data[6]: 4.94066e-324\n",
    "C++: this->price_data[7]: 1.58101e-322\n",
    "C++: this->price_data[8]: 2.92073e-317\n",
    "C++: this->price_data[9]: 4.94066e-323"
   ]
  },
  {
   "cell_type": "markdown",
   "metadata": {},
   "source": [
    "We print in C++ the first 10 values at that address. We recognize the first 4 values, followed by some garbage values (although this time they have the same format, namely doubles)."
   ]
  },
  {
   "cell_type": "code",
   "execution_count": null,
   "metadata": {},
   "outputs": [],
   "source": [
    "C++: multiply this->price_data[this->price_data_size-1] ten-fold\n",
    "C++: this->price_data[this->price_data_size-1]: 13.1"
   ]
  },
  {
   "cell_type": "markdown",
   "metadata": {},
   "source": [
    "We fix the typo in C++ and print to check."
   ]
  },
  {
   "cell_type": "code",
   "execution_count": null,
   "metadata": {},
   "outputs": [],
   "source": [
    "Python: price_data is [13.64 13.69 13.05 13.1 ]\n",
    "Python: the address of price_data is 0x7f94d89f85d0"
   ]
  },
  {
   "cell_type": "markdown",
   "metadata": {},
   "source": [
    "Back to Python, we print `price_data` to check the results. The double was successfully changed. The address hasn't changed."
   ]
  },
  {
   "cell_type": "code",
   "execution_count": null,
   "metadata": {},
   "outputs": [],
   "source": [
    "Python: call change_historical_price_data_py\n",
    "C++: this->historical_price_data: 0x28a8690"
   ]
  },
  {
   "cell_type": "markdown",
   "metadata": {},
   "source": [
    "We use Python to make C++ change `historical_price_data`. In C++, we print the value of `historical_price_data`. Its address is unavailable. Again, notice the first 4 digits of the hex address are identical to the address in Python: `0x7f4e`"
   ]
  },
  {
   "cell_type": "code",
   "execution_count": null,
   "metadata": {},
   "outputs": [],
   "source": [
    "C++: this->historical_price_data[0]: 13\n",
    "C++: this->historical_price_data[1]: 13.59\n",
    "C++: this->historical_price_data[2]: 12.69\n",
    "C++: this->historical_price_data[3]: 13.54\n",
    "C++: this->historical_price_data[4]: 13.54\n",
    "C++: this->historical_price_data[5]: 13.62\n",
    "C++: this->historical_price_data[6]: 13.06\n",
    "C++: this->historical_price_data[7]: 1.312\n",
    "C++: this->historical_price_data[8]: 6.93062e-310\n",
    "C++: this->historical_price_data[9]: 2.1783e-316"
   ]
  },
  {
   "cell_type": "markdown",
   "metadata": {},
   "source": [
    "We print in C++ the first 10 values at that address. We recognize the first 8 values, followed by some garbage values."
   ]
  },
  {
   "cell_type": "code",
   "execution_count": null,
   "metadata": {},
   "outputs": [],
   "source": [
    "C++: multiply this->historical_price_data[this->historical_price_data_size-1] ten-fold\n",
    "C++: this->historical_price_data[this->historical_price_data_size-1]: 13.12"
   ]
  },
  {
   "cell_type": "markdown",
   "metadata": {},
   "source": [
    "We fix the typo in C++ and print to check."
   ]
  },
  {
   "cell_type": "code",
   "execution_count": null,
   "metadata": {},
   "outputs": [],
   "source": [
    "Python: historical_price_data is [[13.   13.59 12.69 13.54]\n",
    " [13.54 13.62 13.06 13.12]]\n",
    "Python: the address of historical_price_data is 0x7f94d8a000d0"
   ]
  },
  {
   "cell_type": "markdown",
   "metadata": {},
   "source": [
    "Back to Python, we print `historical_price_data` to check the results. The double was successfully changed. The address hasn't changed."
   ]
  },
  {
   "cell_type": "code",
   "execution_count": null,
   "metadata": {},
   "outputs": [],
   "source": [
    "Python: call get_industry_py\n",
    "C++: get_industry_c, return a char*\n",
    "Python: get_industry_py returns: gold mining"
   ]
  },
  {
   "cell_type": "markdown",
   "metadata": {},
   "source": [
    "We use Python to get the industry, and let C++ create a char*. We print the value in Python to check."
   ]
  },
  {
   "cell_type": "code",
   "execution_count": null,
   "metadata": {},
   "outputs": [],
   "source": [
    "Python: call get_historical_volume_py\n",
    "C++: get_historical_volume_c, return a vector of doubles\n",
    "Python: get_historical_volume_py returns: [22729.528, 38261.599]"
   ]
  },
  {
   "cell_type": "markdown",
   "metadata": {},
   "source": [
    "We use Python to get the historical volume, and let C++ create a vector of doubles. We print the value in Python to check."
   ]
  },
  {
   "cell_type": "markdown",
   "metadata": {},
   "source": [
    "## 7. Pitfalls"
   ]
  },
  {
   "cell_type": "markdown",
   "metadata": {},
   "source": [
    "### Binary strings\n",
    "Strings created in Python need to be encoded in bytes for C++ to read them. This can either be done by writing `b` before the string, e.g. `b'ABX'`, or by calling the default encode function, e.g. `'ABX'.encode()`<br>\n",
    "However, if the code calls `.encode()` in the pyx file, this will create a copy of the string and pass it to the function. Thus it will lose the reference.\n",
    "\n",
    "Pitfall: never call `.encode()` in the pyx file, this will break the reference <br>\n",
    "Solution: always declare your strings as bytes strings directly in Python using `b`"
   ]
  },
  {
   "cell_type": "markdown",
   "metadata": {},
   "source": [
    "### File naming\n",
    "Cython will take the name of the pyx file, and use it for the name of the new cpp file that will be run. If a cpp file already exists with that name, Cython will not overwrite it. No errors will be raised, and the compilation will seemingly succeed. But in the end, there is no executable to call.\n",
    "\n",
    "Pitfall: don’t call the cpp and pyx files the same name<br>\n",
    "Solution: we recommend using \\_fileformat at the end of every file name, e.g. `stock_pyx.pyx`"
   ]
  },
  {
   "cell_type": "markdown",
   "metadata": {},
   "source": [
    "### Cython syntax\n",
    "In the pxd file, the C++ function signatures are declared. However, Cython is still a hybrid between C++ and Python. Thus some of the syntax is different from C++.\n",
    "\n",
    "Pitfall: vectors are not declared using `<>` <br>\n",
    "Solution: use `[]` to declare vectors, e.g. `vector[double]`"
   ]
  },
  {
   "cell_type": "markdown",
   "metadata": {},
   "source": [
    "### Updating files\n",
    "If the `stock_pyx.cpp` file created during a previous compilation is not removed, then any subsequent compilation will use that file without updating it. This will most likely lead to a failed compilation.\n",
    "\n",
    "Pitfall: compiling with an old `*pyx.cpp` file will fail <br>\n",
    "Solution: always call `rm *pyx.cpp` (or even `rm *x.c*`) before `./compile.sh`"
   ]
  },
  {
   "cell_type": "markdown",
   "metadata": {},
   "source": [
    "### Leaving comments\n",
    "The top comment `# distutils: language = c++` in the pyx file is needed. Removing it will fail the compilation.\n",
    "\n",
    "Pitfall: compiling without the comment will fail <br>\n",
    "Solution: leave the comment"
   ]
  },
  {
   "cell_type": "markdown",
   "metadata": {},
   "source": [
    "## 8. Conclusion"
   ]
  },
  {
   "cell_type": "markdown",
   "metadata": {},
   "source": [
    "Using C++ through Python can be a challenging task, even through a robust interface such as Cython. Fortunately, the official Cython documentation offers useful examples, and forums such as Stack Exchange can also offer good advice.\n",
    "\n",
    "Through careful variable and file naming, one can build a robust interface between C++ and Python, offering the best of both worlds."
   ]
  }
 ],
 "metadata": {
  "kernelspec": {
   "display_name": "Python 3",
   "language": "python",
   "name": "python3"
  },
  "language_info": {
   "codemirror_mode": {
    "name": "ipython",
    "version": 3
   },
   "file_extension": ".py",
   "mimetype": "text/x-python",
   "name": "python",
   "nbconvert_exporter": "python",
   "pygments_lexer": "ipython3",
   "version": "3.5.2"
  }
 },
 "nbformat": 4,
 "nbformat_minor": 2
}
